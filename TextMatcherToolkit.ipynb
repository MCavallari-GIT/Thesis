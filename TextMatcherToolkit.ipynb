{
  "nbformat": 4,
  "nbformat_minor": 0,
  "metadata": {
    "colab": {
      "provenance": [],
      "gpuType": "T4"
    },
    "kernelspec": {
      "name": "python3",
      "display_name": "Python 3"
    },
    "language_info": {
      "name": "python"
    }
  },
  "cells": [
    {
      "cell_type": "markdown",
      "source": [
        "# **Esempio utlizzo package TextMatcherToolkit**"
      ],
      "metadata": {
        "id": "kGDkVSmUl8bR"
      }
    },
    {
      "cell_type": "markdown",
      "source": [
        "**Step 1**: Installation."
      ],
      "metadata": {
        "id": "OVBr75u4sJfX"
      }
    },
    {
      "cell_type": "code",
      "execution_count": 1,
      "metadata": {
        "colab": {
          "base_uri": "https://localhost:8080/"
        },
        "id": "ALv4dPs6l19q",
        "outputId": "4b04b355-2b1a-4e70-c401-e276bbdb6caa"
      },
      "outputs": [
        {
          "output_type": "stream",
          "name": "stdout",
          "text": [
            "\u001b[2K     \u001b[90m━━━━━━━━━━━━━━━━━━━━━━━━━━━━━━━━━━━━━━━\u001b[0m \u001b[32m172.5/172.5 kB\u001b[0m \u001b[31m4.3 MB/s\u001b[0m eta \u001b[36m0:00:00\u001b[0m\n",
            "\u001b[2K     \u001b[90m━━━━━━━━━━━━━━━━━━━━━━━━━━━━━━━━━━━━━━━━\u001b[0m \u001b[32m86.0/86.0 kB\u001b[0m \u001b[31m8.0 MB/s\u001b[0m eta \u001b[36m0:00:00\u001b[0m\n",
            "\u001b[?25h  Preparing metadata (setup.py) ... \u001b[?25l\u001b[?25hdone\n",
            "\u001b[2K     \u001b[90m━━━━━━━━━━━━━━━━━━━━━━━━━━━━━━━━━━━━━━━━\u001b[0m \u001b[32m7.2/7.2 MB\u001b[0m \u001b[31m62.0 MB/s\u001b[0m eta \u001b[36m0:00:00\u001b[0m\n",
            "\u001b[2K     \u001b[90m━━━━━━━━━━━━━━━━━━━━━━━━━━━━━━━━━━━━━━━━\u001b[0m \u001b[32m3.1/3.1 MB\u001b[0m \u001b[31m48.3 MB/s\u001b[0m eta \u001b[36m0:00:00\u001b[0m\n",
            "\u001b[2K     \u001b[90m━━━━━━━━━━━━━━━━━━━━━━━━━━━━━━━━━━━━━━━━\u001b[0m \u001b[32m1.3/1.3 MB\u001b[0m \u001b[31m49.2 MB/s\u001b[0m eta \u001b[36m0:00:00\u001b[0m\n",
            "\u001b[2K     \u001b[90m━━━━━━━━━━━━━━━━━━━━━━━━━━━━━━━━━━━━━━\u001b[0m \u001b[32m268.8/268.8 kB\u001b[0m \u001b[31m18.5 MB/s\u001b[0m eta \u001b[36m0:00:00\u001b[0m\n",
            "\u001b[2K     \u001b[90m━━━━━━━━━━━━━━━━━━━━━━━━━━━━━━━━━━━━━━━━\u001b[0m \u001b[32m7.8/7.8 MB\u001b[0m \u001b[31m62.4 MB/s\u001b[0m eta \u001b[36m0:00:00\u001b[0m\n",
            "\u001b[2K     \u001b[90m━━━━━━━━━━━━━━━━━━━━━━━━━━━━━━━━━━━━━━━━\u001b[0m \u001b[32m1.3/1.3 MB\u001b[0m \u001b[31m42.1 MB/s\u001b[0m eta \u001b[36m0:00:00\u001b[0m\n",
            "\u001b[?25h  Building wheel for sentence-transformers (setup.py) ... \u001b[?25l\u001b[?25hdone\n"
          ]
        }
      ],
      "source": [
        "pip install textmatchertoolkit==0.1.2 --quiet"
      ]
    },
    {
      "cell_type": "markdown",
      "source": [
        "**Step 2**: importing from the TextMatcherToolkit package the Matcher and Utility classes."
      ],
      "metadata": {
        "id": "dfWzJvpLsNr5"
      }
    },
    {
      "cell_type": "code",
      "source": [
        "from textmatchertoolkit.toolkit import Matcher\n",
        "from textmatchertoolkit.toolkit import Utility"
      ],
      "metadata": {
        "colab": {
          "base_uri": "https://localhost:8080/"
        },
        "id": "nQ-Njyf5mSbq",
        "outputId": "070b6ca6-e225-4443-b482-19424f41f280"
      },
      "execution_count": 2,
      "outputs": [
        {
          "output_type": "stream",
          "name": "stderr",
          "text": [
            "[nltk_data] Downloading package stopwords to /root/nltk_data...\n",
            "[nltk_data]   Unzipping corpora/stopwords.zip.\n"
          ]
        }
      ]
    },
    {
      "cell_type": "markdown",
      "source": [
        "**Step 3**: Let's initialize an istance for both the Matcher and Utility classes."
      ],
      "metadata": {
        "id": "MWLkM93Kspto"
      }
    },
    {
      "cell_type": "code",
      "source": [
        "m=Matcher()\n",
        "u=Utility()"
      ],
      "metadata": {
        "id": "4aayOdjWmjY8"
      },
      "execution_count": 4,
      "outputs": []
    },
    {
      "cell_type": "markdown",
      "source": [
        "Let's import now a toy example that consists in a FED statement and a set of tweets published in the next 48 hours by 3 timelines. We wil use it to show how to utilize the TextMatcherToolkit package."
      ],
      "metadata": {
        "id": "QacnVzn8oSuG"
      }
    },
    {
      "cell_type": "code",
      "source": [
        "import json\n",
        "# Load the JSON file into a dictionary\n",
        "with open('similarity_sample0.json', 'r') as f:\n",
        "    similarity = json.load(f)\n",
        "\n",
        "source=\" \"\n",
        "candidates=[]\n",
        "for dir in similarity['0']:\n",
        "  if dir==\"statement\":\n",
        "    source=similarity['0'][dir]\n",
        "  if dir=='related tweets':\n",
        "    for x in similarity['0'][dir]:\n",
        "      candidates.append(x[2])"
      ],
      "metadata": {
        "id": "MoQ7Q3XtmwIj"
      },
      "execution_count": 5,
      "outputs": []
    },
    {
      "cell_type": "markdown",
      "source": [
        "Now let's compute the tfidf matrix for our corpus (source+tweets). This will be useful for when we will compute the cosine similarity between the tf-idf vectors of the senetences that have to be matched."
      ],
      "metadata": {
        "id": "ZSj-B2GQoxTu"
      }
    },
    {
      "cell_type": "code",
      "source": [
        "import pandas as pd"
      ],
      "metadata": {
        "id": "HpF7hr2gpPaS"
      },
      "execution_count": 6,
      "outputs": []
    },
    {
      "cell_type": "code",
      "source": [
        "corpus=[source]+candidates\n",
        "tfidf_matrix,f=u.compute_tfidf_matrix(corpus)\n",
        "pd.DataFrame(tfidf_matrix.toarray(),columns=f).head()"
      ],
      "metadata": {
        "colab": {
          "base_uri": "https://localhost:8080/",
          "height": 299
        },
        "id": "cIkU7Vgmos7S",
        "outputId": "197ec72f-bb24-40aa-c2a1-48fe4c89759a"
      },
      "execution_count": 7,
      "outputs": [
        {
          "output_type": "execute_result",
          "data": {
            "text/plain": [
              "   account    action  activity   ad  addition  administr  administration  \\\n",
              "0      0.0  0.040119  0.080238  0.0       0.0        0.0             0.0   \n",
              "1      0.0  0.000000  0.000000  0.0       0.0        0.0             0.0   \n",
              "2      0.0  0.000000  0.000000  0.0       0.0        0.0             0.0   \n",
              "3      0.0  0.000000  0.000000  0.0       0.0        0.0             0.0   \n",
              "4      0.0  0.000000  0.000000  0.0       0.0        0.0             0.0   \n",
              "\n",
              "   affect    agency  ago  ...  world  wound  xstrata  yahoo   ye      year  \\\n",
              "0     0.0  0.036921  0.0  ...    0.0    0.0      0.0    0.0  0.0  0.032891   \n",
              "1     0.0  0.000000  0.0  ...    0.0    0.0      0.0    0.0  0.0  0.000000   \n",
              "2     0.0  0.000000  0.0  ...    0.0    0.0      0.0    0.0  0.0  0.000000   \n",
              "3     0.0  0.000000  0.0  ...    0.0    0.0      0.0    0.0  0.0  0.000000   \n",
              "4     0.0  0.000000  0.0  ...    0.0    0.0      0.0    0.0  0.0  0.000000   \n",
              "\n",
              "     yellen  yen  york  zero  \n",
              "0  0.040119  0.0   0.0   0.0  \n",
              "1  0.000000  0.0   0.0   0.0  \n",
              "2  0.000000  0.0   0.0   0.0  \n",
              "3  0.000000  0.0   0.0   0.0  \n",
              "4  0.000000  0.0   0.0   0.0  \n",
              "\n",
              "[5 rows x 708 columns]"
            ],
            "text/html": [
              "\n",
              "\n",
              "  <div id=\"df-5e2e902b-1509-4789-be55-caa0b18d2e26\">\n",
              "    <div class=\"colab-df-container\">\n",
              "      <div>\n",
              "<style scoped>\n",
              "    .dataframe tbody tr th:only-of-type {\n",
              "        vertical-align: middle;\n",
              "    }\n",
              "\n",
              "    .dataframe tbody tr th {\n",
              "        vertical-align: top;\n",
              "    }\n",
              "\n",
              "    .dataframe thead th {\n",
              "        text-align: right;\n",
              "    }\n",
              "</style>\n",
              "<table border=\"1\" class=\"dataframe\">\n",
              "  <thead>\n",
              "    <tr style=\"text-align: right;\">\n",
              "      <th></th>\n",
              "      <th>account</th>\n",
              "      <th>action</th>\n",
              "      <th>activity</th>\n",
              "      <th>ad</th>\n",
              "      <th>addition</th>\n",
              "      <th>administr</th>\n",
              "      <th>administration</th>\n",
              "      <th>affect</th>\n",
              "      <th>agency</th>\n",
              "      <th>ago</th>\n",
              "      <th>...</th>\n",
              "      <th>world</th>\n",
              "      <th>wound</th>\n",
              "      <th>xstrata</th>\n",
              "      <th>yahoo</th>\n",
              "      <th>ye</th>\n",
              "      <th>year</th>\n",
              "      <th>yellen</th>\n",
              "      <th>yen</th>\n",
              "      <th>york</th>\n",
              "      <th>zero</th>\n",
              "    </tr>\n",
              "  </thead>\n",
              "  <tbody>\n",
              "    <tr>\n",
              "      <th>0</th>\n",
              "      <td>0.0</td>\n",
              "      <td>0.040119</td>\n",
              "      <td>0.080238</td>\n",
              "      <td>0.0</td>\n",
              "      <td>0.0</td>\n",
              "      <td>0.0</td>\n",
              "      <td>0.0</td>\n",
              "      <td>0.0</td>\n",
              "      <td>0.036921</td>\n",
              "      <td>0.0</td>\n",
              "      <td>...</td>\n",
              "      <td>0.0</td>\n",
              "      <td>0.0</td>\n",
              "      <td>0.0</td>\n",
              "      <td>0.0</td>\n",
              "      <td>0.0</td>\n",
              "      <td>0.032891</td>\n",
              "      <td>0.040119</td>\n",
              "      <td>0.0</td>\n",
              "      <td>0.0</td>\n",
              "      <td>0.0</td>\n",
              "    </tr>\n",
              "    <tr>\n",
              "      <th>1</th>\n",
              "      <td>0.0</td>\n",
              "      <td>0.000000</td>\n",
              "      <td>0.000000</td>\n",
              "      <td>0.0</td>\n",
              "      <td>0.0</td>\n",
              "      <td>0.0</td>\n",
              "      <td>0.0</td>\n",
              "      <td>0.0</td>\n",
              "      <td>0.000000</td>\n",
              "      <td>0.0</td>\n",
              "      <td>...</td>\n",
              "      <td>0.0</td>\n",
              "      <td>0.0</td>\n",
              "      <td>0.0</td>\n",
              "      <td>0.0</td>\n",
              "      <td>0.0</td>\n",
              "      <td>0.000000</td>\n",
              "      <td>0.000000</td>\n",
              "      <td>0.0</td>\n",
              "      <td>0.0</td>\n",
              "      <td>0.0</td>\n",
              "    </tr>\n",
              "    <tr>\n",
              "      <th>2</th>\n",
              "      <td>0.0</td>\n",
              "      <td>0.000000</td>\n",
              "      <td>0.000000</td>\n",
              "      <td>0.0</td>\n",
              "      <td>0.0</td>\n",
              "      <td>0.0</td>\n",
              "      <td>0.0</td>\n",
              "      <td>0.0</td>\n",
              "      <td>0.000000</td>\n",
              "      <td>0.0</td>\n",
              "      <td>...</td>\n",
              "      <td>0.0</td>\n",
              "      <td>0.0</td>\n",
              "      <td>0.0</td>\n",
              "      <td>0.0</td>\n",
              "      <td>0.0</td>\n",
              "      <td>0.000000</td>\n",
              "      <td>0.000000</td>\n",
              "      <td>0.0</td>\n",
              "      <td>0.0</td>\n",
              "      <td>0.0</td>\n",
              "    </tr>\n",
              "    <tr>\n",
              "      <th>3</th>\n",
              "      <td>0.0</td>\n",
              "      <td>0.000000</td>\n",
              "      <td>0.000000</td>\n",
              "      <td>0.0</td>\n",
              "      <td>0.0</td>\n",
              "      <td>0.0</td>\n",
              "      <td>0.0</td>\n",
              "      <td>0.0</td>\n",
              "      <td>0.000000</td>\n",
              "      <td>0.0</td>\n",
              "      <td>...</td>\n",
              "      <td>0.0</td>\n",
              "      <td>0.0</td>\n",
              "      <td>0.0</td>\n",
              "      <td>0.0</td>\n",
              "      <td>0.0</td>\n",
              "      <td>0.000000</td>\n",
              "      <td>0.000000</td>\n",
              "      <td>0.0</td>\n",
              "      <td>0.0</td>\n",
              "      <td>0.0</td>\n",
              "    </tr>\n",
              "    <tr>\n",
              "      <th>4</th>\n",
              "      <td>0.0</td>\n",
              "      <td>0.000000</td>\n",
              "      <td>0.000000</td>\n",
              "      <td>0.0</td>\n",
              "      <td>0.0</td>\n",
              "      <td>0.0</td>\n",
              "      <td>0.0</td>\n",
              "      <td>0.0</td>\n",
              "      <td>0.000000</td>\n",
              "      <td>0.0</td>\n",
              "      <td>...</td>\n",
              "      <td>0.0</td>\n",
              "      <td>0.0</td>\n",
              "      <td>0.0</td>\n",
              "      <td>0.0</td>\n",
              "      <td>0.0</td>\n",
              "      <td>0.000000</td>\n",
              "      <td>0.000000</td>\n",
              "      <td>0.0</td>\n",
              "      <td>0.0</td>\n",
              "      <td>0.0</td>\n",
              "    </tr>\n",
              "  </tbody>\n",
              "</table>\n",
              "<p>5 rows × 708 columns</p>\n",
              "</div>\n",
              "      <button class=\"colab-df-convert\" onclick=\"convertToInteractive('df-5e2e902b-1509-4789-be55-caa0b18d2e26')\"\n",
              "              title=\"Convert this dataframe to an interactive table.\"\n",
              "              style=\"display:none;\">\n",
              "\n",
              "  <svg xmlns=\"http://www.w3.org/2000/svg\" height=\"24px\"viewBox=\"0 0 24 24\"\n",
              "       width=\"24px\">\n",
              "    <path d=\"M0 0h24v24H0V0z\" fill=\"none\"/>\n",
              "    <path d=\"M18.56 5.44l.94 2.06.94-2.06 2.06-.94-2.06-.94-.94-2.06-.94 2.06-2.06.94zm-11 1L8.5 8.5l.94-2.06 2.06-.94-2.06-.94L8.5 2.5l-.94 2.06-2.06.94zm10 10l.94 2.06.94-2.06 2.06-.94-2.06-.94-.94-2.06-.94 2.06-2.06.94z\"/><path d=\"M17.41 7.96l-1.37-1.37c-.4-.4-.92-.59-1.43-.59-.52 0-1.04.2-1.43.59L10.3 9.45l-7.72 7.72c-.78.78-.78 2.05 0 2.83L4 21.41c.39.39.9.59 1.41.59.51 0 1.02-.2 1.41-.59l7.78-7.78 2.81-2.81c.8-.78.8-2.07 0-2.86zM5.41 20L4 18.59l7.72-7.72 1.47 1.35L5.41 20z\"/>\n",
              "  </svg>\n",
              "      </button>\n",
              "\n",
              "\n",
              "\n",
              "    <div id=\"df-507ef30f-f7ad-4a52-8eac-1534563d7354\">\n",
              "      <button class=\"colab-df-quickchart\" onclick=\"quickchart('df-507ef30f-f7ad-4a52-8eac-1534563d7354')\"\n",
              "              title=\"Suggest charts.\"\n",
              "              style=\"display:none;\">\n",
              "\n",
              "<svg xmlns=\"http://www.w3.org/2000/svg\" height=\"24px\"viewBox=\"0 0 24 24\"\n",
              "     width=\"24px\">\n",
              "    <g>\n",
              "        <path d=\"M19 3H5c-1.1 0-2 .9-2 2v14c0 1.1.9 2 2 2h14c1.1 0 2-.9 2-2V5c0-1.1-.9-2-2-2zM9 17H7v-7h2v7zm4 0h-2V7h2v10zm4 0h-2v-4h2v4z\"/>\n",
              "    </g>\n",
              "</svg>\n",
              "      </button>\n",
              "    </div>\n",
              "\n",
              "<style>\n",
              "  .colab-df-quickchart {\n",
              "    background-color: #E8F0FE;\n",
              "    border: none;\n",
              "    border-radius: 50%;\n",
              "    cursor: pointer;\n",
              "    display: none;\n",
              "    fill: #1967D2;\n",
              "    height: 32px;\n",
              "    padding: 0 0 0 0;\n",
              "    width: 32px;\n",
              "  }\n",
              "\n",
              "  .colab-df-quickchart:hover {\n",
              "    background-color: #E2EBFA;\n",
              "    box-shadow: 0px 1px 2px rgba(60, 64, 67, 0.3), 0px 1px 3px 1px rgba(60, 64, 67, 0.15);\n",
              "    fill: #174EA6;\n",
              "  }\n",
              "\n",
              "  [theme=dark] .colab-df-quickchart {\n",
              "    background-color: #3B4455;\n",
              "    fill: #D2E3FC;\n",
              "  }\n",
              "\n",
              "  [theme=dark] .colab-df-quickchart:hover {\n",
              "    background-color: #434B5C;\n",
              "    box-shadow: 0px 1px 3px 1px rgba(0, 0, 0, 0.15);\n",
              "    filter: drop-shadow(0px 1px 2px rgba(0, 0, 0, 0.3));\n",
              "    fill: #FFFFFF;\n",
              "  }\n",
              "</style>\n",
              "\n",
              "    <script>\n",
              "      async function quickchart(key) {\n",
              "        const containerElement = document.querySelector('#' + key);\n",
              "        const charts = await google.colab.kernel.invokeFunction(\n",
              "            'suggestCharts', [key], {});\n",
              "      }\n",
              "    </script>\n",
              "\n",
              "      <script>\n",
              "\n",
              "function displayQuickchartButton(domScope) {\n",
              "  let quickchartButtonEl =\n",
              "    domScope.querySelector('#df-507ef30f-f7ad-4a52-8eac-1534563d7354 button.colab-df-quickchart');\n",
              "  quickchartButtonEl.style.display =\n",
              "    google.colab.kernel.accessAllowed ? 'block' : 'none';\n",
              "}\n",
              "\n",
              "        displayQuickchartButton(document);\n",
              "      </script>\n",
              "      <style>\n",
              "    .colab-df-container {\n",
              "      display:flex;\n",
              "      flex-wrap:wrap;\n",
              "      gap: 12px;\n",
              "    }\n",
              "\n",
              "    .colab-df-convert {\n",
              "      background-color: #E8F0FE;\n",
              "      border: none;\n",
              "      border-radius: 50%;\n",
              "      cursor: pointer;\n",
              "      display: none;\n",
              "      fill: #1967D2;\n",
              "      height: 32px;\n",
              "      padding: 0 0 0 0;\n",
              "      width: 32px;\n",
              "    }\n",
              "\n",
              "    .colab-df-convert:hover {\n",
              "      background-color: #E2EBFA;\n",
              "      box-shadow: 0px 1px 2px rgba(60, 64, 67, 0.3), 0px 1px 3px 1px rgba(60, 64, 67, 0.15);\n",
              "      fill: #174EA6;\n",
              "    }\n",
              "\n",
              "    [theme=dark] .colab-df-convert {\n",
              "      background-color: #3B4455;\n",
              "      fill: #D2E3FC;\n",
              "    }\n",
              "\n",
              "    [theme=dark] .colab-df-convert:hover {\n",
              "      background-color: #434B5C;\n",
              "      box-shadow: 0px 1px 3px 1px rgba(0, 0, 0, 0.15);\n",
              "      filter: drop-shadow(0px 1px 2px rgba(0, 0, 0, 0.3));\n",
              "      fill: #FFFFFF;\n",
              "    }\n",
              "  </style>\n",
              "\n",
              "      <script>\n",
              "        const buttonEl =\n",
              "          document.querySelector('#df-5e2e902b-1509-4789-be55-caa0b18d2e26 button.colab-df-convert');\n",
              "        buttonEl.style.display =\n",
              "          google.colab.kernel.accessAllowed ? 'block' : 'none';\n",
              "\n",
              "        async function convertToInteractive(key) {\n",
              "          const element = document.querySelector('#df-5e2e902b-1509-4789-be55-caa0b18d2e26');\n",
              "          const dataTable =\n",
              "            await google.colab.kernel.invokeFunction('convertToInteractive',\n",
              "                                                     [key], {});\n",
              "          if (!dataTable) return;\n",
              "\n",
              "          const docLinkHtml = 'Like what you see? Visit the ' +\n",
              "            '<a target=\"_blank\" href=https://colab.research.google.com/notebooks/data_table.ipynb>data table notebook</a>'\n",
              "            + ' to learn more about interactive tables.';\n",
              "          element.innerHTML = '';\n",
              "          dataTable['output_type'] = 'display_data';\n",
              "          await google.colab.output.renderOutput(dataTable, element);\n",
              "          const docLink = document.createElement('div');\n",
              "          docLink.innerHTML = docLinkHtml;\n",
              "          element.appendChild(docLink);\n",
              "        }\n",
              "      </script>\n",
              "    </div>\n",
              "  </div>\n"
            ]
          },
          "metadata": {},
          "execution_count": 7
        }
      ]
    },
    {
      "cell_type": "markdown",
      "source": [
        "Since we want to match a sentence with a sentence, we will split the FED statement in senteces. This is not done with the tweets due to their nature (they are short, usually a single sentence)."
      ],
      "metadata": {
        "id": "bR8GPjXFt8bs"
      }
    },
    {
      "cell_type": "code",
      "source": [
        "from nltk.tokenize import sent_tokenize\n",
        "import nltk\n",
        "nltk.download('punkt')\n",
        "\n",
        "sentences = sent_tokenize(source)\n",
        "finals_source=[s for s in sentences]"
      ],
      "metadata": {
        "colab": {
          "base_uri": "https://localhost:8080/"
        },
        "id": "TfiE8nUUpGJc",
        "outputId": "6e1f6a90-b18a-45ad-a71e-4d9873aad52d"
      },
      "execution_count": 8,
      "outputs": [
        {
          "output_type": "stream",
          "name": "stderr",
          "text": [
            "[nltk_data] Downloading package punkt to /root/nltk_data...\n",
            "[nltk_data]   Unzipping tokenizers/punkt.zip.\n"
          ]
        }
      ]
    },
    {
      "cell_type": "markdown",
      "source": [
        "**Step 4**: Now we can finally \"match\" our sentence between them. The \"match\" will be between each tweet with each senetence of the FED statement. Since the sentences in the FED statement are 17, and the tweets are 117, we will have a total of 117*17=1989 matches. For each of them we will output:\n",
        "\n",
        "*   A similarity score between the two\n",
        "*   The distance between their topic distributions\n",
        "*   A paraphrase score\n",
        "*   An entailement score\n",
        "*   The positional distance between the two\n",
        "*   The cosine similarity between the tf-idf vector of the two\n",
        "*   A subjectivity score for each of the two sentences\n",
        "\n",
        "Let's make a small example, comparing all the 17 senteces of the FED statement with the 1st tweet of our list \"candidates\".\n",
        "\n",
        "\n"
      ],
      "metadata": {
        "id": "aDDfPMo5p79c"
      }
    },
    {
      "cell_type": "code",
      "source": [
        "sent_Tw=candidates[0]\n",
        "\n",
        "final_result=[]\n",
        "for sent_S in finals_source:\n",
        "  dic={}\n",
        "  dic['source_index']=finals_source.index(sent_S)\n",
        "  dic['candidate_index']=candidates.index(sent_Tw)\n",
        "  dic['similarity']=m.compute_similarity(sent_S,sent_Tw)\n",
        "  dic['topic_coherence']=m.compute_topic_coherence(sent_S,sent_Tw)\n",
        "  dic['paraphrase']=m.compute_paraphrase(sent_S,sent_Tw)\n",
        "  dic['entailment']=m.compute_entailment(sent_S,sent_Tw)\n",
        "  dic['pos_distance']=m.compute_positional_distance(sent_S,sent_Tw)\n",
        "  dic['TF-IDF']=m.compute_tfidf_similarity(sent_S,sent_Tw,u.vectorizer)\n",
        "  dic['Sub_source_sentence']=m.compute_subjectivity(sent_S)\n",
        "  dic['Sub_candidate_sentence']=m.compute_subjectivity(sent_Tw)\n",
        "  final_result.append(dic)"
      ],
      "metadata": {
        "id": "KPpHW_k0qMni"
      },
      "execution_count": 9,
      "outputs": []
    },
    {
      "cell_type": "markdown",
      "source": [
        "Below are reported the \"match\" results between the 1st sentence of the FED statement ('source_index': 0) and the 1st tweet in the candidate list ('candidate_index': 0)."
      ],
      "metadata": {
        "id": "MFIl1guWzfdz"
      }
    },
    {
      "cell_type": "code",
      "source": [
        "final_result[0]"
      ],
      "metadata": {
        "colab": {
          "base_uri": "https://localhost:8080/"
        },
        "id": "qaFLvoD4xzbo",
        "outputId": "5b39e377-fd3a-421a-d43b-11e13c0da2a0"
      },
      "execution_count": 10,
      "outputs": [
        {
          "output_type": "execute_result",
          "data": {
            "text/plain": [
              "{'source_index': 0,\n",
              " 'candidate_index': 0,\n",
              " 'similarity': 0.18972744,\n",
              " 'topic_coherence': 0.3651833888194202,\n",
              " 'paraphrase': 0.006242744158953428,\n",
              " 'entailment': 0.014161094091832638,\n",
              " 'pos_distance': 15,\n",
              " 'TF-IDF': 0.0,\n",
              " 'Sub_source_sentence': 0.25430986285209656,\n",
              " 'Sub_candidate_sentence': 0.21919167041778564}"
            ]
          },
          "metadata": {},
          "execution_count": 10
        }
      ]
    },
    {
      "cell_type": "code",
      "source": [],
      "metadata": {
        "id": "6HpRFYnp6QfY"
      },
      "execution_count": null,
      "outputs": []
    }
  ]
}